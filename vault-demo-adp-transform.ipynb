{
 "cells": [
  {
   "cell_type": "markdown",
   "metadata": {},
   "source": [
    "# HashiCorp Vault Demo for Transit Engine and Advanced Data Protection (ADP) features.\n",
    "\n",
    "This demo shows how HashiCorp Vault Transit engine encryption and ADP features work.  ADP features include Format Preserving Encryption (FPE), Data Masking, and Tokenization.\n",
    "\n",
    "To run this notebook in VS Code, chose the Jupyter kernel and then Bash\n",
    "\n",
    "This assumes your Vault server is installed using docker and already running on http://127.0.0.1:8200\n",
    "and you have set your VAULT_ADDR and VAULT_TOKEN variables.\n",
    "\n",
    "This also assumes you have the Vault CLI installed.\n",
    "\n",
    "You will need Vault to be installed with an ADP Transform license add-on."
   ]
  },
  {
   "cell_type": "code",
   "execution_count": null,
   "metadata": {
    "vscode": {
     "languageId": "shellscript"
    }
   },
   "outputs": [],
   "source": [
    "# Optional.  The following are some sample commands for running Vault Enterprise in docker.\n",
    "export VAULT_PORT=8200\n",
    "export VAULT_ADDR=\"http://127.0.0.1:${VAULT_PORT}\"\n",
    "export VAULT_TOKEN=\"root\"\n",
    "# Change the path to your license file\n",
    "export VAULT_LICENSE=$(cat $HOME/vault-enterprise/vault_local/data/vault.hclic)\n",
    "docker run -d --rm --name vault-enterprise --cap-add=IPC_LOCK \\\n",
    "-v $LOGS_PATH:/vault_logs \\\n",
    "-e \"VAULT_DEV_ROOT_TOKEN_ID=${VAULT_TOKEN}\" \\\n",
    "-e \"VAULT_DEV_LISTEN_ADDRESS=:${VAULT_PORT}\" \\\n",
    "-e \"VAULT_LICENSE=${VAULT_LICENSE}\" \\\n",
    "-p ${VAULT_PORT}:${VAULT_PORT} hashicorp/vault-enterprise:latest"
   ]
  },
  {
   "cell_type": "markdown",
   "metadata": {},
   "source": [
    "# Vault Transit Engine\n",
    "This section demonstrates the base encryption/decryption functions.\n",
    "\n",
    "Ref: https://developer.hashicorp.com/vault/docs/secrets/transit"
   ]
  },
  {
   "cell_type": "code",
   "execution_count": null,
   "metadata": {
    "vscode": {
     "languageId": "shellscript"
    }
   },
   "outputs": [],
   "source": [
    "# Enable transit engine at the default mount path\n",
    "#vault secrets disable transit\n",
    "vault secrets enable transit"
   ]
  },
  {
   "cell_type": "code",
   "execution_count": null,
   "metadata": {
    "vscode": {
     "languageId": "shellscript"
    }
   },
   "outputs": [],
   "source": [
    "# Create a key\n",
    "vault write -f transit/keys/demo-key\n",
    "\n",
    "# Policy sample to use key\n",
    "# Ref: https://developer.hashicorp.com/vault/tutorials/encryption-as-a-service/eaas-transit?variants=vault-deploy%3Aselfhosted#create-a-token-for-vault-clients"
   ]
  },
  {
   "cell_type": "code",
   "execution_count": null,
   "metadata": {
    "vscode": {
     "languageId": "shellscript"
    }
   },
   "outputs": [],
   "source": [
    "# Encrypt plain text with key and store cipher text\n",
    "# Before encrypting, value will be base64 encoded\n",
    "vault write -f transit/encrypt/demo-key plaintext=$(base64 <<< \"4111 1111 1111 1111\")\n",
    "\n",
    "# Store cipher text\n",
    "export CIPHERTEXT=$(vault write -f -field=ciphertext transit/encrypt/demo-key plaintext=$(base64 <<< \"4111 1111 1111 1111\"))\n",
    "echo\n",
    "echo \"Encrypted value: $CIPHERTEXT\""
   ]
  },
  {
   "cell_type": "code",
   "execution_count": null,
   "metadata": {
    "vscode": {
     "languageId": "shellscript"
    }
   },
   "outputs": [],
   "source": [
    "# Decrypt cipher text\n",
    "echo \"Encrypted value: $CIPHERTEXT\"\n",
    "echo\n",
    "echo \"Decrypted value: $(base64 --decode <<< $(vault write -field=plaintext transit/decrypt/demo-key ciphertext=$CIPHERTEXT))\"\n"
   ]
  },
  {
   "cell_type": "code",
   "execution_count": null,
   "metadata": {
    "vscode": {
     "languageId": "shellscript"
    }
   },
   "outputs": [],
   "source": [
    "# Demo key rotation\n",
    "vault write -f transit/keys/demo-key/rotate"
   ]
  },
  {
   "cell_type": "code",
   "execution_count": null,
   "metadata": {
    "vscode": {
     "languageId": "shellscript"
    }
   },
   "outputs": [],
   "source": [
    "# Show that the key_version is now incremented\n",
    "vault write -f transit/encrypt/demo-key plaintext=$(base64 <<< \"4111 1111 1111 1111\")"
   ]
  },
  {
   "cell_type": "code",
   "execution_count": null,
   "metadata": {
    "vscode": {
     "languageId": "shellscript"
    }
   },
   "outputs": [],
   "source": [
    "# Show that you cannot export a key if it is not marked exportable\n",
    "vault read transit/export/encryption-key/demo-key\n",
    "\n",
    "# Show that you cannot backup the key\n",
    "vault read transit/backup/demo-key\n",
    "\n",
    "# Show that you cannot delete a key if it is not marked as deletion allowed\n",
    "vault delete transit/keys/demo-key"
   ]
  },
  {
   "cell_type": "code",
   "execution_count": null,
   "metadata": {
    "vscode": {
     "languageId": "shellscript"
    }
   },
   "outputs": [],
   "source": [
    "# Let's create a new key to show export and deletion capability\n",
    "\n",
    "# Mark as exportable on creation\n",
    "vault write -f transit/keys/demo-key2 exportable=true"
   ]
  },
  {
   "cell_type": "code",
   "execution_count": null,
   "metadata": {
    "vscode": {
     "languageId": "shellscript"
    }
   },
   "outputs": [],
   "source": [
    "# Configure allow deletion and allows backup/restore in plaintext format\n",
    "vault write transit/keys/demo-key2/config deletion_allowed=true allow_plaintext_backup=true"
   ]
  },
  {
   "cell_type": "code",
   "execution_count": null,
   "metadata": {
    "vscode": {
     "languageId": "shellscript"
    }
   },
   "outputs": [],
   "source": [
    "# Show that you can now export the key\n",
    "vault read transit/export/encryption-key/demo-key2\n",
    "echo\n",
    "# Show that you can do a backup of the key\n",
    "vault read transit/backup/demo-key2\n",
    "export KEY_BACKUP=$(vault read -field=backup transit/backup/demo-key2)"
   ]
  },
  {
   "cell_type": "code",
   "execution_count": null,
   "metadata": {
    "vscode": {
     "languageId": "shellscript"
    }
   },
   "outputs": [],
   "source": [
    "# Show that you can delete the key now\n",
    "vault delete transit/keys/demo-key2\n",
    "\n",
    "# Show that the key is deleted\n",
    "vault read transit/export/encryption-key/demo-key2"
   ]
  },
  {
   "cell_type": "code",
   "execution_count": null,
   "metadata": {
    "vscode": {
     "languageId": "shellscript"
    }
   },
   "outputs": [],
   "source": [
    "# Let's restore the key now\n",
    "echo \"Key Backup: $KEY_BACKUP\"\n",
    "# Restore the key\n",
    "vault write transit/restore/demo-key2 backup=$KEY_BACKUP\n",
    "echo\n",
    "# Show that the key is restored\n",
    "vault read transit/export/encryption-key/demo-key2"
   ]
  },
  {
   "cell_type": "markdown",
   "metadata": {},
   "source": [
    "## Setup Vault's Transform Engine (ADP Feature)"
   ]
  },
  {
   "cell_type": "code",
   "execution_count": null,
   "metadata": {
    "vscode": {
     "languageId": "shellscript"
    }
   },
   "outputs": [],
   "source": [
    "# Enable transform engine at the default mount path\n",
    "# Policy for configuration - https://developer.hashicorp.com/vault/tutorials/adp/transform#policy-requirements\n",
    "vault secrets enable transform"
   ]
  },
  {
   "cell_type": "markdown",
   "metadata": {},
   "source": [
    "# Format Preserving Encryption (FPE) Demo - Credit Card Number"
   ]
  },
  {
   "cell_type": "code",
   "execution_count": null,
   "metadata": {
    "vscode": {
     "languageId": "shellscript"
    }
   },
   "outputs": [],
   "source": [
    "# Create a role named \"payments\" with \"card-number\" transformation attached\n",
    "vault write transform/role/payments transformations=card-number"
   ]
  },
  {
   "cell_type": "code",
   "execution_count": null,
   "metadata": {
    "vscode": {
     "languageId": "shellscript"
    }
   },
   "outputs": [],
   "source": [
    "# Verify the role \"payments\" is created\n",
    "vault list transform/role"
   ]
  },
  {
   "cell_type": "code",
   "execution_count": null,
   "metadata": {
    "vscode": {
     "languageId": "shellscript"
    }
   },
   "outputs": [],
   "source": [
    "# View existing templates.  Show that we will be using \"builtin/creditcardnumber\"\n",
    "vault list transform/template"
   ]
  },
  {
   "cell_type": "code",
   "execution_count": null,
   "metadata": {
    "vscode": {
     "languageId": "shellscript"
    }
   },
   "outputs": [],
   "source": [
    "# Create a transformation named \"card-number\" which will be used by role \"payments\" to transform credit card numbers.\n",
    "# This uses the built-in template builtin/creditcardnumber to perform format-preserving encryption (FPE). \n",
    "vault write transform/transformations/fpe/card-number \\\n",
    "    template=\"builtin/creditcardnumber\" \\\n",
    "    tweak_source=internal \\\n",
    "    allowed_roles=payments"
   ]
  },
  {
   "cell_type": "code",
   "execution_count": null,
   "metadata": {
    "vscode": {
     "languageId": "shellscript"
    }
   },
   "outputs": [],
   "source": [
    "# Verify the \"card-number\" transformation is created\n",
    "vault list transform/transformations/fpe"
   ]
  },
  {
   "cell_type": "code",
   "execution_count": null,
   "metadata": {
    "vscode": {
     "languageId": "shellscript"
    }
   },
   "outputs": [],
   "source": [
    "# View the \"card-number\" transformation details\n",
    "# https://developer.hashicorp.com/vault/tutorials/adp/transform#policy-requirements\n",
    "vault read transform/transformations/fpe/card-number"
   ]
  },
  {
   "cell_type": "code",
   "execution_count": null,
   "metadata": {
    "vscode": {
     "languageId": "shellscript"
    }
   },
   "outputs": [],
   "source": [
    "# Encode credit card number using FPE\n",
    "vault write transform/encode/payments value=1111-2222-3333-4444 transformation=card-number\n",
    "\n",
    "# Store encoded value\n",
    "export FPE_ENCODED_VALUE=$(vault write -format json transform/encode/payments value=1111-2222-3333-4444 \\\n",
    "  transformation=card-number | jq -r .data.encoded_value)"
   ]
  },
  {
   "cell_type": "code",
   "execution_count": null,
   "metadata": {
    "vscode": {
     "languageId": "shellscript"
    }
   },
   "outputs": [],
   "source": [
    "# Decode credit card number\n",
    "vault write transform/decode/payments value=$FPE_ENCODED_VALUE transformation=card-number"
   ]
  },
  {
   "cell_type": "markdown",
   "metadata": {},
   "source": [
    "# FPE Demo - NRIC"
   ]
  },
  {
   "cell_type": "code",
   "execution_count": null,
   "metadata": {
    "vscode": {
     "languageId": "shellscript"
    }
   },
   "outputs": [],
   "source": [
    "# Create template for Singapore NRIC.  Note that we are not changing the front and ending letters.  \n",
    "vault write transform/template/sg-nric-tmpl \\\n",
    "    type=regex \\\n",
    "    pattern=\"[stfgSTFG](\\d{7})[a-zA-Z]\" \\\n",
    "    alphabet=builtin/numeric "
   ]
  },
  {
   "cell_type": "code",
   "execution_count": null,
   "metadata": {
    "vscode": {
     "languageId": "shellscript"
    }
   },
   "outputs": [],
   "source": [
    "# View added template\n",
    "vault list transform/template"
   ]
  },
  {
   "cell_type": "code",
   "execution_count": null,
   "metadata": {
    "vscode": {
     "languageId": "shellscript"
    }
   },
   "outputs": [],
   "source": [
    "# Create transformation named \"sg-nric\" with the \"sg-nric-tmpl\" template\n",
    "vault write transform/transformations/fpe/sg-nric \\\n",
    "    template=sg-nric-tmpl \\\n",
    "    tweak_source=internal \\\n",
    "    allowed_roles=hr-role\n"
   ]
  },
  {
   "cell_type": "code",
   "execution_count": null,
   "metadata": {
    "vscode": {
     "languageId": "shellscript"
    }
   },
   "outputs": [],
   "source": [
    "# Create a role named \"hr-role\" with \"sg-nric\" transformation attached\n",
    "vault write transform/role/hr-role transformations=sg-nric"
   ]
  },
  {
   "cell_type": "code",
   "execution_count": null,
   "metadata": {
    "vscode": {
     "languageId": "shellscript"
    }
   },
   "outputs": [],
   "source": [
    "# Encode a NRIC value\n",
    "vault write transform/encode/hr-role value=\"S7012345Z\" transformation=sg-nric\n",
    "\n",
    "export FPE_ENCODED_VALUE=$(vault write -format json transform/encode/hr-role value=\"S7012345Z\" transformation=sg-nric | jq -r .data.encoded_value)"
   ]
  },
  {
   "cell_type": "code",
   "execution_count": null,
   "metadata": {
    "vscode": {
     "languageId": "shellscript"
    }
   },
   "outputs": [],
   "source": [
    "# Decode NRIC\n",
    "echo -e \"FPE Encoded Value is: $FPE_ENCODED_VALUE\\n\"\n",
    "vault write transform/decode/hr-role value=$FPE_ENCODED_VALUE transformation=sg-nric"
   ]
  },
  {
   "cell_type": "markdown",
   "metadata": {},
   "source": [
    "# Data Masking Demo - IP Address"
   ]
  },
  {
   "cell_type": "code",
   "execution_count": null,
   "metadata": {
    "vscode": {
     "languageId": "shellscript"
    }
   },
   "outputs": [],
   "source": [
    "# Create template for IP address.  I want to mask all digits.\n",
    "vault write transform/template/ip-address-tmpl type=regex \\\n",
    "    pattern=\"(2(?:[0-4][0-9]|5[0-5])|[0-1]?[0-9]?[0-9])\\.(2(?:[0-4][0-9]|5[0-5])|[0-1]?[0-9]?[0-9])\\.(2(?:[0-4][0-9]|5[0-5])|[0-1]?[0-9]?[0-9])\\.(2(?:[0-4][0-9]|5[0-5])|[0-1]?[0-9]?[0-9])\" \\\n",
    "    alphabet=builtin/numeric"
   ]
  },
  {
   "cell_type": "code",
   "execution_count": null,
   "metadata": {
    "vscode": {
     "languageId": "shellscript"
    }
   },
   "outputs": [],
   "source": [
    "# View added template\n",
    "vault list transform/template"
   ]
  },
  {
   "cell_type": "code",
   "execution_count": null,
   "metadata": {
    "vscode": {
     "languageId": "shellscript"
    }
   },
   "outputs": [],
   "source": [
    "# Create a transformation named \"ip-address\" which will be used by role \"logging-role\" \n",
    "vault write transform/transformations/masking/ip-address \\\n",
    "    template=ip-address-tmpl \\\n",
    "    masking_character=# \\\n",
    "    allowed_roles='logging-role'\n"
   ]
  },
  {
   "cell_type": "code",
   "execution_count": null,
   "metadata": {
    "vscode": {
     "languageId": "shellscript"
    }
   },
   "outputs": [],
   "source": [
    "# Create a role named \"logging-role\" with \"ip-address\" transformation attached\n",
    "vault write transform/role/logging-role transformations=ip-address\n",
    "\n"
   ]
  },
  {
   "cell_type": "code",
   "execution_count": null,
   "metadata": {
    "vscode": {
     "languageId": "shellscript"
    }
   },
   "outputs": [],
   "source": [
    "# Mask a valid IP address\n",
    "vault write transform/encode/logging-role value=\"10.100.1.87\" \\\n",
    "    transformation=ip-address"
   ]
  },
  {
   "cell_type": "markdown",
   "metadata": {},
   "source": [
    "# Tokenization Demo - Credit Card Number"
   ]
  },
  {
   "cell_type": "code",
   "execution_count": null,
   "metadata": {
    "vscode": {
     "languageId": "shellscript"
    }
   },
   "outputs": [],
   "source": [
    "# Run a PostgreSQL database for tokenization demo\n",
    "docker run --name postgres \\\n",
    "     -p 5432:5432 \\\n",
    "     --rm \\\n",
    "     -e POSTGRES_USER=root \\\n",
    "     -e POSTGRES_PASSWORD=mypassword \\\n",
    "     -d postgres"
   ]
  },
  {
   "cell_type": "code",
   "execution_count": null,
   "metadata": {
    "vscode": {
     "languageId": "shellscript"
    }
   },
   "outputs": [],
   "source": [
    "# Verify Postgres database is running\n",
    "docker ps"
   ]
  },
  {
   "cell_type": "code",
   "execution_count": null,
   "metadata": {
    "vscode": {
     "languageId": "shellscript"
    }
   },
   "outputs": [],
   "source": [
    "# Create a role named \"mobile-pay\" with a transformation named \"credit-card\"\n",
    "vault write transform/role/mobile-pay transformations=credit-card"
   ]
  },
  {
   "cell_type": "code",
   "execution_count": null,
   "metadata": {
    "vscode": {
     "languageId": "shellscript"
    }
   },
   "outputs": [],
   "source": [
    "# Assumes your Vault is running on docker and connecting via the docker bridge network\n",
    "# Obtain IP address of the postgres database for configuration\n",
    "export POSTGRES_DB_IP=$(docker inspect -f '{{range .NetworkSettings.Networks}}{{.IPAddress}}{{end}}' postgres)\n",
    "echo -e \"Postgres IP Address is: $POSTGRES_DB_IP\\n\"\n",
    "# Create a store which points to the postgres database\n",
    "vault write transform/stores/postgres \\\n",
    "   type=sql \\\n",
    "   driver=postgres \\\n",
    "   supported_transformations=tokenization \\\n",
    "   connection_string=\"postgresql://{{username}}:{{password}}@$POSTGRES_DB_IP/root?sslmode=disable\" \\\n",
    "   username=root \\\n",
    "   password=mypassword\n"
   ]
  },
  {
   "cell_type": "code",
   "execution_count": null,
   "metadata": {
    "vscode": {
     "languageId": "shellscript"
    }
   },
   "outputs": [],
   "source": [
    "# Show that there is a new postgres store created\n",
    "vault list transform/stores\n",
    "echo\n",
    "vault read transform/stores/postgres"
   ]
  },
  {
   "cell_type": "code",
   "execution_count": null,
   "metadata": {
    "vscode": {
     "languageId": "shellscript"
    }
   },
   "outputs": [],
   "source": [
    "# Create a schema in postgres to store tokeniation artifacts\n",
    "vault write transform/stores/postgres/schema transformation_type=tokenization \\\n",
    "    username=root password=mypassword"
   ]
  },
  {
   "cell_type": "code",
   "execution_count": null,
   "metadata": {
    "vscode": {
     "languageId": "shellscript"
    }
   },
   "outputs": [],
   "source": [
    "# Create a transformation named \"credit-card\" which sets the generated token's max time-to-live (TTL) to 24 hours.\n",
    "# Specify the postgres store\n",
    "vault write transform/transformations/tokenization/credit-card \\\n",
    "  allowed_roles=mobile-pay \\\n",
    "  stores=postgres \\\n",
    "  max_ttl=24h\n"
   ]
  },
  {
   "cell_type": "code",
   "execution_count": null,
   "metadata": {
    "vscode": {
     "languageId": "shellscript"
    }
   },
   "outputs": [],
   "source": [
    "# You can read back the properties of the transformation\n",
    "vault read transform/transformations/tokenization/credit-card"
   ]
  },
  {
   "cell_type": "code",
   "execution_count": null,
   "metadata": {
    "vscode": {
     "languageId": "shellscript"
    }
   },
   "outputs": [],
   "source": [
    "# Tokenize a credit card number.  Specify token time to live as 30 secs.\n",
    "# Note policy to use tokenization - https://developer.hashicorp.com/vault/tutorials/adp/tokenization#tokenize-secrets\n",
    "\n",
    "# vault write transform/encode/mobile-pay value=1111-2222-3333-4444 \\\n",
    "#      transformation=credit-card \\\n",
    "#      ttl=30s \\\n",
    "#      metadata=\"Organization=HashiCorp\" \\\n",
    "#      metadata=\"Purpose=Travel\" \\\n",
    "#      metadata=\"Type=AMEX\"\n",
    "\n",
    "export TOKEN_ENCODED_VALUE=$(vault write -format json transform/encode/mobile-pay value=1111-2222-3333-4444 \\\n",
    "     transformation=credit-card \\\n",
    "     ttl=30s \\\n",
    "     metadata=\"Organization=HashiCorp\" \\\n",
    "     metadata=\"Purpose=Travel\" \\\n",
    "     metadata=\"Type=AMEX\" \\\n",
    "     | jq -r .data.encoded_value)\n",
    "echo \"encoded_value is : $TOKEN_ENCODED_VALUE\"\n",
    "\n",
    "# Note you can show the operation below within the 30s window and see the behaviour."
   ]
  },
  {
   "cell_type": "code",
   "execution_count": null,
   "metadata": {
    "vscode": {
     "languageId": "shellscript"
    }
   },
   "outputs": [],
   "source": [
    "# Retrieve metadata of the token\n",
    "vault write transform/metadata/mobile-pay value=$TOKEN_ENCODED_VALUE transformation=credit-card"
   ]
  },
  {
   "cell_type": "code",
   "execution_count": null,
   "metadata": {
    "vscode": {
     "languageId": "shellscript"
    }
   },
   "outputs": [],
   "source": [
    "# Validate the token value\n",
    "vault write transform/validate/mobile-pay value=$TOKEN_ENCODED_VALUE transformation=credit-card"
   ]
  },
  {
   "cell_type": "code",
   "execution_count": null,
   "metadata": {
    "vscode": {
     "languageId": "shellscript"
    }
   },
   "outputs": [],
   "source": [
    "# Validate if the credit card number has been tokenized already\n",
    "vault write transform/tokenized/mobile-pay value=1111-2222-3333-4444 transformation=credit-card"
   ]
  },
  {
   "cell_type": "code",
   "execution_count": null,
   "metadata": {
    "vscode": {
     "languageId": "shellscript"
    }
   },
   "outputs": [],
   "source": [
    "# Detokenize to retrieve the original plaintext credit card value\n",
    "\n",
    "# vault write transform/decode/mobile-pay transformation=credit-card value=$TOKEN_ENCODED_VALUE\n",
    "\n",
    "vault write -format json transform/decode/mobile-pay transformation=credit-card value=$TOKEN_ENCODED_VALUE | jq -r .data.decoded_value"
   ]
  },
  {
   "cell_type": "markdown",
   "metadata": {},
   "source": [
    "# View Contents of PostgreSQL Database"
   ]
  },
  {
   "cell_type": "code",
   "execution_count": null,
   "metadata": {
    "vscode": {
     "languageId": "shellscript"
    }
   },
   "outputs": [],
   "source": [
    "# Setup psql alias to the container\n",
    "alias psql=\"docker exec -it postgres psql -U root\"\n",
    "\n",
    "# View tokens in the postgres store\n",
    "psql -c '\\x auto;' -c 'select * from tokens;'"
   ]
  },
  {
   "cell_type": "markdown",
   "metadata": {},
   "source": [
    "# Cleanup"
   ]
  },
  {
   "cell_type": "code",
   "execution_count": null,
   "metadata": {
    "vscode": {
     "languageId": "shellscript"
    }
   },
   "outputs": [],
   "source": [
    "# Cleanup\n",
    "# stop PostgreSQL container\n",
    "docker stop postgres\n",
    "\n",
    "# Disable transit engine\n",
    "vault secrets disable transit\n",
    "\n",
    "# Disable transform engine\n",
    "vault secrets disable transform\n",
    "\n",
    "# Stop Vault container\n",
    "docker stop vault-enterprise"
   ]
  }
 ],
 "metadata": {
  "kernelspec": {
   "display_name": "Bash",
   "language": "bash",
   "name": "bash"
  },
  "language_info": {
   "codemirror_mode": "shell",
   "file_extension": ".sh",
   "mimetype": "text/x-sh",
   "name": "bash"
  },
  "orig_nbformat": 4
 },
 "nbformat": 4,
 "nbformat_minor": 2
}
